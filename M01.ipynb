{
 "cells": [
  {
   "cell_type": "code",
   "execution_count": 18,
   "id": "91dec561-c209-4fd9-a9fe-79f309ba17c2",
   "metadata": {},
   "outputs": [],
   "source": [
    "#3.1"
   ]
  },
  {
   "cell_type": "code",
   "execution_count": 4,
   "id": "756cd056-5ce3-41ed-ae3c-c7ae99ec5d2e",
   "metadata": {},
   "outputs": [
    {
     "data": {
      "text/plain": [
       "3600"
      ]
     },
     "execution_count": 4,
     "metadata": {},
     "output_type": "execute_result"
    }
   ],
   "source": [
    "60*60"
   ]
  },
  {
   "cell_type": "code",
   "execution_count": null,
   "id": "9e87b70a-34a3-40cb-b0f4-50be50264c7b",
   "metadata": {},
   "outputs": [],
   "source": [
    "#3.2"
   ]
  },
  {
   "cell_type": "code",
   "execution_count": 14,
   "id": "02fdb3aa-629a-49d4-a235-325db40ef389",
   "metadata": {},
   "outputs": [],
   "source": [
    "seconds_per_hour = 3600"
   ]
  },
  {
   "cell_type": "code",
   "execution_count": null,
   "id": "f2c43660-5f1d-4e79-9c2e-f3e8462550da",
   "metadata": {},
   "outputs": [],
   "source": [
    "#3.3"
   ]
  },
  {
   "cell_type": "code",
   "execution_count": 9,
   "id": "f1eb30eb-ce62-4aae-98f8-d8803d77f7e8",
   "metadata": {},
   "outputs": [],
   "source": [
    "seconds_in_day = seconds_per_hour * 24"
   ]
  },
  {
   "cell_type": "code",
   "execution_count": 10,
   "id": "12019f48-0263-433e-9e42-d1d69d7c3e85",
   "metadata": {},
   "outputs": [
    {
     "name": "stdout",
     "output_type": "stream",
     "text": [
      "86400\n"
     ]
    }
   ],
   "source": [
    "print(seconds_in_day)\n"
   ]
  },
  {
   "cell_type": "code",
   "execution_count": null,
   "id": "d7228cd7-8e77-4430-9772-8b3c3493a0ac",
   "metadata": {},
   "outputs": [],
   "source": [
    "#3.4"
   ]
  },
  {
   "cell_type": "code",
   "execution_count": 15,
   "id": "209ee8a9-e40c-42de-bf7b-f65e0f73f71d",
   "metadata": {},
   "outputs": [
    {
     "name": "stdout",
     "output_type": "stream",
     "text": [
      "86400\n"
     ]
    }
   ],
   "source": [
    "seconds_per_day = seconds_per_hour * 24\n",
    "print(seconds_per_day)"
   ]
  },
  {
   "cell_type": "code",
   "execution_count": null,
   "id": "99fdb3c9-e68e-4329-a944-82d00f86259f",
   "metadata": {},
   "outputs": [],
   "source": [
    "#3.5"
   ]
  },
  {
   "cell_type": "code",
   "execution_count": 16,
   "id": "73f2621e-443d-4a43-a6b8-03f02652ac9e",
   "metadata": {},
   "outputs": [
    {
     "data": {
      "text/plain": [
       "24.0"
      ]
     },
     "execution_count": 16,
     "metadata": {},
     "output_type": "execute_result"
    }
   ],
   "source": [
    "seconds_per_day/seconds_per_hour"
   ]
  },
  {
   "cell_type": "code",
   "execution_count": null,
   "id": "1c92e2ac-451c-4744-87db-500d440a719b",
   "metadata": {},
   "outputs": [],
   "source": [
    "#3.6 Yes it agreed with 3.5"
   ]
  },
  {
   "cell_type": "code",
   "execution_count": 17,
   "id": "ad1d6db2-e7f7-475b-a708-31b6caf6ee67",
   "metadata": {},
   "outputs": [
    {
     "data": {
      "text/plain": [
       "24"
      ]
     },
     "execution_count": 17,
     "metadata": {},
     "output_type": "execute_result"
    }
   ],
   "source": [
    "seconds_per_day//seconds_per_hour"
   ]
  }
 ],
 "metadata": {
  "kernelspec": {
   "display_name": "Python 3 (ipykernel)",
   "language": "python",
   "name": "python3"
  },
  "language_info": {
   "codemirror_mode": {
    "name": "ipython",
    "version": 3
   },
   "file_extension": ".py",
   "mimetype": "text/x-python",
   "name": "python",
   "nbconvert_exporter": "python",
   "pygments_lexer": "ipython3",
   "version": "3.13.5"
  }
 },
 "nbformat": 4,
 "nbformat_minor": 5
}
